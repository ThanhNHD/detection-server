{
 "cells": [
  {
   "cell_type": "markdown",
   "metadata": {},
   "source": [
    "resume train"
   ]
  },
  {
   "cell_type": "code",
   "execution_count": null,
   "metadata": {},
   "outputs": [],
   "source": [
    "from ultralytics import YOLO\n",
    "\n",
    "model = YOLO(\"../runs/detect/train2/weights/last.pt\")\n",
    "\n",
    "modelRes = model.train(resume=True,\n",
    "    # batch=0.4,\n",
    "    # cos_lr=True,\n",
    "    # patience=10,\n",
    "    # plots=True,\n",
    "    # profile=True,\n",
    "    )"
   ]
  },
  {
   "cell_type": "markdown",
   "metadata": {},
   "source": [
    "Train model"
   ]
  },
  {
   "cell_type": "code",
   "execution_count": null,
   "metadata": {},
   "outputs": [],
   "source": [
    "from ultralytics import YOLO\n",
    "\n",
    "model = YOLO(\"yolov10m.yaml\")\n",
    "\n",
    "modelRes = model.train(\n",
    "    data=\"data.yaml\",\n",
    "    epochs=300,\n",
    "    imgsz=640,\n",
    "    device=0,\n",
    "    patience=10,\n",
    "    plots=True,\n",
    "    profile=True,\n",
    "    cos_lr=True,\n",
    "    batch=0.9,\n",
    "    mixup=0.5,\n",
    "    flipud=0.5,\n",
    "    perspective=0.0005,\n",
    "    degrees=180.0,\n",
    ")\n",
    "# workers=16, \n",
    "    # cache=\"disk\",\n",
    "    # bgr=0.5,\n",
    "    # resume=True,\n",
    "    # save_period=20,\n",
    "    # pretrained=False,\n",
    "    # rect=True"
   ]
  }
 ],
 "metadata": {
  "kernelspec": {
   "display_name": "Python 3",
   "language": "python",
   "name": "python3"
  },
  "language_info": {
   "codemirror_mode": {
    "name": "ipython",
    "version": 3
   },
   "file_extension": ".py",
   "mimetype": "text/x-python",
   "name": "python",
   "nbconvert_exporter": "python",
   "pygments_lexer": "ipython3",
   "version": "3.11.0"
  }
 },
 "nbformat": 4,
 "nbformat_minor": 2
}
